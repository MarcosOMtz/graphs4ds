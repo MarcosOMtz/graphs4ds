{
 "cells": [
  {
   "cell_type": "markdown",
   "metadata": {},
   "source": [
    "## Algoritmo de PageRank\n",
    "\n",
    "Teniendo en cuenta que algunos no estan familiarizados con la programacion orientada a objetos les \n",
    "prepare un notebook para que puedan correr el algoritmo paso por paso\n"
   ]
  },
  {
   "cell_type": "markdown",
   "metadata": {},
   "source": [
    "***Primero preparamos nuestras variables***"
   ]
  },
  {
   "cell_type": "code",
   "execution_count": null,
   "metadata": {
    "collapsed": true
   },
   "outputs": [],
   "source": [
    "from __future__ import division, absolute_import\n",
    "from pylab import *             # para graficar\n",
    "from numpy.random import *      # para generar muestreos aleatorios\n",
    "seed(randint(100)) # genera un numero aleatorio y escribelo como semilla del generador :o\n",
    "import time\n",
    "from graph_tool.all import *    # graph_tool\n",
    "\n",
    "\n",
    "g = Graph()                     # contruyendo el grafo\n",
    "g.set_directed(True)            # haciendolo un grafo dirigido\n",
    "num_nodes = num_nodes           # la cantidad de nodos de la red\n",
    "damping_factor = damping_factor # damping factor\n",
    "vlist = []                      # siempre guardamos una lista de nodos para generar la red\n"
   ]
  },
  {
   "cell_type": "markdown",
   "metadata": {},
   "source": [
    "Los comandos anteriores solo importan las librerias necesarias y crean el grafo. Ademas necesitamos **property maps**\n",
    "para guardar los valores de **PageRank** que estaremos creando. Los **property maps** son basicmente estructuras que nos\n",
    "permiten guardar una asignacion\n",
    "\n",
    "```\n",
    "vertex1 -> value2\n",
    "vertex2 -> value2\n",
    "...\n",
    "```"
   ]
  },
  {
   "cell_type": "code",
   "execution_count": null,
   "metadata": {
    "collapsed": true
   },
   "outputs": [],
   "source": [
    "v_age = g.new_vertex_property(\"int\")\n",
    "page_rank = None   # Esta propiedad la crearemos despues, usando el PageRank de la libreria\n",
    "custom_page_rank = g.new_vertex_property(\"float\") # esta es nuestra implementacion de PageRank"
   ]
  },
  {
   "cell_type": "markdown",
   "metadata": {},
   "source": [
    "Arriba solo estamos definiendo tres properties donde vamos a almacenar la edad del vertice nuevo que\n",
    "crearemos y los dos valores de PageRank, el calculado por la libreria y el calculado por nosotros.\n",
    "\n",
    "La siguiente funcion crea el grafo, es decir, inserta los nodos y las aristas de manera aleatoria\n",
    "siguiendo un patron de __preferential attachment__"
   ]
  },
  {
   "cell_type": "code",
   "execution_count": null,
   "metadata": {
    "collapsed": true
   },
   "outputs": [],
   "source": [
    "def create_graph():\n",
    "        print \"Armando grafo\"\n",
    "        stime = time.time()\n",
    "\n",
    "        # Generamos un vertice\n",
    "        v = g.add_vertex()\n",
    "        self.v_age[v] = 0\n",
    "\n",
    "        # Creamos una lista con los vertices que nos diga la cantidad de veces\n",
    "        # que ha aparecido el vertice en una adicion, lo que se traduce en la\n",
    "        # probabilidad que sea elegido para conectarse\n",
    "        vlist.append(v)\n",
    "\n",
    "        for i in range(1, num_nodes):\n",
    "            # creando los vertices\n",
    "            v = g.add_vertex()\n",
    "            v_age[v] = i             # ajustando la edad del vertice en la propiedad\n",
    "\n",
    "            # generamos una arista basandonos en una eleccion aleatoria de\n",
    "            # un elemento en vlist\n",
    "            i = randint(0, len(vlist))\n",
    "            target = vlist[i]\n",
    "\n",
    "            # agregamos la arista\n",
    "            e = g.add_edge(v, target)\n",
    "\n",
    "            # ponemos target y v en la lista. Asi la frecuencia de target\n",
    "            # aumenta por haber sido elegido\n",
    "            vlist.append(target)\n",
    "            vlist.append(v)\n",
    "\n",
    "        print \"Grafo completo, tardamos\", time.time()-stime"
   ]
  },
  {
   "cell_type": "markdown",
   "metadata": {},
   "source": [
    "Una vez creada la red podemos pasar a calcular el PageRank de las dos formas que tenemos planeadas. Tenemos entonces\n",
    "la funcion"
   ]
  },
  {
   "cell_type": "code",
   "execution_count": null,
   "metadata": {
    "collapsed": true
   },
   "outputs": [],
   "source": [
    "def calculate_page_rank():\n",
    "        page_rank = pagerank(self.g) ## usando el PageRank de la libreria de graph_tool\n",
    "\n",
    "        # comenzamos con nuestro PageRank\n",
    "        t = 60  # numero de iteraciones\n",
    "        for vertex in g.vertices():\n",
    "            custom_page_rank[vertex]=1/num_nodes\n",
    "\n",
    "        for i in xrange(t):\n",
    "            for v in g.vertices():\n",
    "                temp_factor = 0.0\n",
    "                for n in in_neighbours():\n",
    "                    temp_factor += (custom_page_rank[n]/n.out_degree())\n",
    "                custom_page_rank[v] = ((1-damping_factor)/num_nodes)+\\\n",
    "                                        damping_factor*(temp_factor)\n",
    "\n",
    "        # Imprimimos ambos PageRank para estudiar la diferencia\n",
    "        for v in self.g.vertices():\n",
    "            print \"PageRanks: \",\n",
    "            print \"Graph-Tool Rank: \", page_rank[v],\n",
    "            print \"Custom Rank: \", custom_page_rank[v]"
   ]
  },
  {
   "cell_type": "markdown",
   "metadata": {},
   "source": [
    "Finalmente corremos nuestro codigo"
   ]
  },
  {
   "cell_type": "code",
   "execution_count": null,
   "metadata": {
    "collapsed": true
   },
   "outputs": [],
   "source": [
    "create_graph()"
   ]
  },
  {
   "cell_type": "code",
   "execution_count": null,
   "metadata": {
    "collapsed": true
   },
   "outputs": [],
   "source": [
    "calculate_page_rank()"
   ]
  }
 ],
 "metadata": {
  "kernelspec": {
   "display_name": "Python 2",
   "language": "python",
   "name": "python2"
  },
  "language_info": {
   "codemirror_mode": {
    "name": "ipython",
    "version": 2
   },
   "file_extension": ".py",
   "mimetype": "text/x-python",
   "name": "python",
   "nbconvert_exporter": "python",
   "pygments_lexer": "ipython2",
   "version": "2.7.10"
  }
 },
 "nbformat": 4,
 "nbformat_minor": 0
}
